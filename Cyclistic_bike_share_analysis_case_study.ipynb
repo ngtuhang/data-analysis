{
  "nbformat": 4,
  "nbformat_minor": 0,
  "metadata": {
    "colab": {
      "provenance": [],
      "authorship_tag": "ABX9TyONbaCxC/XuEizoq1ZmzMUI",
      "include_colab_link": true
    },
    "kernelspec": {
      "name": "python3",
      "display_name": "Python 3"
    },
    "language_info": {
      "name": "python"
    }
  },
  "cells": [
    {
      "cell_type": "markdown",
      "metadata": {
        "id": "view-in-github",
        "colab_type": "text"
      },
      "source": [
        "<a href=\"https://colab.research.google.com/github/ngtuhang/Data-Analysis/blob/main/Cyclistic_bike_share_analysis_case_study.ipynb\" target=\"_parent\"><img src=\"https://colab.research.google.com/assets/colab-badge.svg\" alt=\"Open In Colab\"/></a>"
      ]
    },
    {
      "cell_type": "markdown",
      "source": [
        "This analysis is for the Cyclistic bike-share service, a project from the Google Analytics Professional Certificate. The dataset used in this analysis is the publicly available Divvy Bikes dataset provided by Motivate International Inc. The dataset contains information on bike trips made using the Cyclistic bike-share service during the year 2022.\n",
        " \n",
        "I use Python to consolidate the downloaded Divvy data into a single dataframe and conduct an analysis to answer the key question: “In what ways do members and casual riders use Cyclistic bikes differently?”"
      ],
      "metadata": {
        "id": "WcVdVQYvxRWB"
      }
    },
    {
      "cell_type": "code",
      "source": [
        "# Install required packages\n",
        "import pandas as pd  \n",
        "import numpy as np    "
      ],
      "metadata": {
        "id": "aNz7L9JPa-2Q"
      },
      "execution_count": null,
      "outputs": []
    },
    {
      "cell_type": "markdown",
      "source": [
        "# PREPARE DATA"
      ],
      "metadata": {
        "id": "_fzkiMk1gcuL"
      }
    },
    {
      "cell_type": "markdown",
      "source": [
        "The original dataset was downloaded in 12 separate files, one for each month of 2022. These files were concatenated into a single dataset for easier analysis. "
      ],
      "metadata": {
        "id": "0WPwpA58yKfC"
      }
    },
    {
      "cell_type": "code",
      "source": [
        "# read in the data files and concatenate them into a single dataframe\n",
        "files = ['/content/202201-divvy-tripdata.csv', '/content/202202-divvy-tripdata.csv', '/content/202203-divvy-tripdata.csv', '/content/202204-divvy-tripdata.csv',\n",
        "         '/content/202205-divvy-tripdata.csv', '/content/202206-divvy-tripdata.csv','/content/202207-divvy-tripdata.csv','/content/202208-divvy-tripdata.csv','/content/202209-divvy-tripdata.csv','/content/202210-divvy-tripdata.csv','/content/202211-divvy-tripdata.csv','/content/202212-divvy-tripdata.csv']\n",
        "df = pd.concat([pd.read_csv(f) for f in files], ignore_index=True)"
      ],
      "metadata": {
        "id": "tMByFNO8bBwA"
      },
      "execution_count": null,
      "outputs": []
    },
    {
      "cell_type": "markdown",
      "source": [
        "# PROCESS DATA"
      ],
      "metadata": {
        "id": "MUa2LgzXbPpy"
      }
    },
    {
      "cell_type": "markdown",
      "source": [
        "## Inspect data"
      ],
      "metadata": {
        "id": "bdKWwlG27AfG"
      }
    },
    {
      "cell_type": "code",
      "source": [
        "# See the first 5 rows of the dataframe\n",
        "df.head()"
      ],
      "metadata": {
        "colab": {
          "base_uri": "https://localhost:8080/",
          "height": 443
        },
        "id": "DoLSYtLffexz",
        "outputId": "c5e2db7c-0beb-4ad0-f393-89b14c9203d0"
      },
      "execution_count": null,
      "outputs": [
        {
          "output_type": "execute_result",
          "data": {
            "text/plain": [
              "            ride_id  rideable_type           started_at             ended_at  \\\n",
              "0  C2F7DD78E82EC875  electric_bike  2022-01-13 11:59:47  2022-01-13 12:02:44   \n",
              "1  A6CF8980A652D272  electric_bike  2022-01-10 08:41:56  2022-01-10 08:46:17   \n",
              "2  BD0F91DFF741C66D   classic_bike  2022-01-25 04:53:40  2022-01-25 04:58:01   \n",
              "3  CBB80ED419105406   classic_bike  2022-01-04 00:18:04  2022-01-04 00:33:00   \n",
              "4  DDC963BFDDA51EEA   classic_bike  2022-01-20 01:31:10  2022-01-20 01:37:12   \n",
              "\n",
              "              start_station_name start_station_id  \\\n",
              "0       Glenwood Ave & Touhy Ave              525   \n",
              "1       Glenwood Ave & Touhy Ave              525   \n",
              "2  Sheffield Ave & Fullerton Ave     TA1306000016   \n",
              "3       Clark St & Bryn Mawr Ave     KA1504000151   \n",
              "4    Michigan Ave & Jackson Blvd     TA1309000002   \n",
              "\n",
              "                end_station_name end_station_id  start_lat  start_lng  \\\n",
              "0           Clark St & Touhy Ave         RP-007  42.012800 -87.665906   \n",
              "1           Clark St & Touhy Ave         RP-007  42.012763 -87.665967   \n",
              "2  Greenview Ave & Fullerton Ave   TA1307000001  41.925602 -87.653708   \n",
              "3      Paulina St & Montrose Ave   TA1309000021  41.983593 -87.669154   \n",
              "4         State St & Randolph St   TA1305000029  41.877850 -87.624080   \n",
              "\n",
              "     end_lat    end_lng member_casual  \n",
              "0  42.012560 -87.674367        casual  \n",
              "1  42.012560 -87.674367        casual  \n",
              "2  41.925330 -87.665800        member  \n",
              "3  41.961507 -87.671387        casual  \n",
              "4  41.884621 -87.627834        member  "
            ],
            "text/html": [
              "\n",
              "  <div id=\"df-9ab93816-b422-4d43-a9d9-c458eeef18d7\">\n",
              "    <div class=\"colab-df-container\">\n",
              "      <div>\n",
              "<style scoped>\n",
              "    .dataframe tbody tr th:only-of-type {\n",
              "        vertical-align: middle;\n",
              "    }\n",
              "\n",
              "    .dataframe tbody tr th {\n",
              "        vertical-align: top;\n",
              "    }\n",
              "\n",
              "    .dataframe thead th {\n",
              "        text-align: right;\n",
              "    }\n",
              "</style>\n",
              "<table border=\"1\" class=\"dataframe\">\n",
              "  <thead>\n",
              "    <tr style=\"text-align: right;\">\n",
              "      <th></th>\n",
              "      <th>ride_id</th>\n",
              "      <th>rideable_type</th>\n",
              "      <th>started_at</th>\n",
              "      <th>ended_at</th>\n",
              "      <th>start_station_name</th>\n",
              "      <th>start_station_id</th>\n",
              "      <th>end_station_name</th>\n",
              "      <th>end_station_id</th>\n",
              "      <th>start_lat</th>\n",
              "      <th>start_lng</th>\n",
              "      <th>end_lat</th>\n",
              "      <th>end_lng</th>\n",
              "      <th>member_casual</th>\n",
              "    </tr>\n",
              "  </thead>\n",
              "  <tbody>\n",
              "    <tr>\n",
              "      <th>0</th>\n",
              "      <td>C2F7DD78E82EC875</td>\n",
              "      <td>electric_bike</td>\n",
              "      <td>2022-01-13 11:59:47</td>\n",
              "      <td>2022-01-13 12:02:44</td>\n",
              "      <td>Glenwood Ave &amp; Touhy Ave</td>\n",
              "      <td>525</td>\n",
              "      <td>Clark St &amp; Touhy Ave</td>\n",
              "      <td>RP-007</td>\n",
              "      <td>42.012800</td>\n",
              "      <td>-87.665906</td>\n",
              "      <td>42.012560</td>\n",
              "      <td>-87.674367</td>\n",
              "      <td>casual</td>\n",
              "    </tr>\n",
              "    <tr>\n",
              "      <th>1</th>\n",
              "      <td>A6CF8980A652D272</td>\n",
              "      <td>electric_bike</td>\n",
              "      <td>2022-01-10 08:41:56</td>\n",
              "      <td>2022-01-10 08:46:17</td>\n",
              "      <td>Glenwood Ave &amp; Touhy Ave</td>\n",
              "      <td>525</td>\n",
              "      <td>Clark St &amp; Touhy Ave</td>\n",
              "      <td>RP-007</td>\n",
              "      <td>42.012763</td>\n",
              "      <td>-87.665967</td>\n",
              "      <td>42.012560</td>\n",
              "      <td>-87.674367</td>\n",
              "      <td>casual</td>\n",
              "    </tr>\n",
              "    <tr>\n",
              "      <th>2</th>\n",
              "      <td>BD0F91DFF741C66D</td>\n",
              "      <td>classic_bike</td>\n",
              "      <td>2022-01-25 04:53:40</td>\n",
              "      <td>2022-01-25 04:58:01</td>\n",
              "      <td>Sheffield Ave &amp; Fullerton Ave</td>\n",
              "      <td>TA1306000016</td>\n",
              "      <td>Greenview Ave &amp; Fullerton Ave</td>\n",
              "      <td>TA1307000001</td>\n",
              "      <td>41.925602</td>\n",
              "      <td>-87.653708</td>\n",
              "      <td>41.925330</td>\n",
              "      <td>-87.665800</td>\n",
              "      <td>member</td>\n",
              "    </tr>\n",
              "    <tr>\n",
              "      <th>3</th>\n",
              "      <td>CBB80ED419105406</td>\n",
              "      <td>classic_bike</td>\n",
              "      <td>2022-01-04 00:18:04</td>\n",
              "      <td>2022-01-04 00:33:00</td>\n",
              "      <td>Clark St &amp; Bryn Mawr Ave</td>\n",
              "      <td>KA1504000151</td>\n",
              "      <td>Paulina St &amp; Montrose Ave</td>\n",
              "      <td>TA1309000021</td>\n",
              "      <td>41.983593</td>\n",
              "      <td>-87.669154</td>\n",
              "      <td>41.961507</td>\n",
              "      <td>-87.671387</td>\n",
              "      <td>casual</td>\n",
              "    </tr>\n",
              "    <tr>\n",
              "      <th>4</th>\n",
              "      <td>DDC963BFDDA51EEA</td>\n",
              "      <td>classic_bike</td>\n",
              "      <td>2022-01-20 01:31:10</td>\n",
              "      <td>2022-01-20 01:37:12</td>\n",
              "      <td>Michigan Ave &amp; Jackson Blvd</td>\n",
              "      <td>TA1309000002</td>\n",
              "      <td>State St &amp; Randolph St</td>\n",
              "      <td>TA1305000029</td>\n",
              "      <td>41.877850</td>\n",
              "      <td>-87.624080</td>\n",
              "      <td>41.884621</td>\n",
              "      <td>-87.627834</td>\n",
              "      <td>member</td>\n",
              "    </tr>\n",
              "  </tbody>\n",
              "</table>\n",
              "</div>\n",
              "      <button class=\"colab-df-convert\" onclick=\"convertToInteractive('df-9ab93816-b422-4d43-a9d9-c458eeef18d7')\"\n",
              "              title=\"Convert this dataframe to an interactive table.\"\n",
              "              style=\"display:none;\">\n",
              "        \n",
              "  <svg xmlns=\"http://www.w3.org/2000/svg\" height=\"24px\"viewBox=\"0 0 24 24\"\n",
              "       width=\"24px\">\n",
              "    <path d=\"M0 0h24v24H0V0z\" fill=\"none\"/>\n",
              "    <path d=\"M18.56 5.44l.94 2.06.94-2.06 2.06-.94-2.06-.94-.94-2.06-.94 2.06-2.06.94zm-11 1L8.5 8.5l.94-2.06 2.06-.94-2.06-.94L8.5 2.5l-.94 2.06-2.06.94zm10 10l.94 2.06.94-2.06 2.06-.94-2.06-.94-.94-2.06-.94 2.06-2.06.94z\"/><path d=\"M17.41 7.96l-1.37-1.37c-.4-.4-.92-.59-1.43-.59-.52 0-1.04.2-1.43.59L10.3 9.45l-7.72 7.72c-.78.78-.78 2.05 0 2.83L4 21.41c.39.39.9.59 1.41.59.51 0 1.02-.2 1.41-.59l7.78-7.78 2.81-2.81c.8-.78.8-2.07 0-2.86zM5.41 20L4 18.59l7.72-7.72 1.47 1.35L5.41 20z\"/>\n",
              "  </svg>\n",
              "      </button>\n",
              "      \n",
              "  <style>\n",
              "    .colab-df-container {\n",
              "      display:flex;\n",
              "      flex-wrap:wrap;\n",
              "      gap: 12px;\n",
              "    }\n",
              "\n",
              "    .colab-df-convert {\n",
              "      background-color: #E8F0FE;\n",
              "      border: none;\n",
              "      border-radius: 50%;\n",
              "      cursor: pointer;\n",
              "      display: none;\n",
              "      fill: #1967D2;\n",
              "      height: 32px;\n",
              "      padding: 0 0 0 0;\n",
              "      width: 32px;\n",
              "    }\n",
              "\n",
              "    .colab-df-convert:hover {\n",
              "      background-color: #E2EBFA;\n",
              "      box-shadow: 0px 1px 2px rgba(60, 64, 67, 0.3), 0px 1px 3px 1px rgba(60, 64, 67, 0.15);\n",
              "      fill: #174EA6;\n",
              "    }\n",
              "\n",
              "    [theme=dark] .colab-df-convert {\n",
              "      background-color: #3B4455;\n",
              "      fill: #D2E3FC;\n",
              "    }\n",
              "\n",
              "    [theme=dark] .colab-df-convert:hover {\n",
              "      background-color: #434B5C;\n",
              "      box-shadow: 0px 1px 3px 1px rgba(0, 0, 0, 0.15);\n",
              "      filter: drop-shadow(0px 1px 2px rgba(0, 0, 0, 0.3));\n",
              "      fill: #FFFFFF;\n",
              "    }\n",
              "  </style>\n",
              "\n",
              "      <script>\n",
              "        const buttonEl =\n",
              "          document.querySelector('#df-9ab93816-b422-4d43-a9d9-c458eeef18d7 button.colab-df-convert');\n",
              "        buttonEl.style.display =\n",
              "          google.colab.kernel.accessAllowed ? 'block' : 'none';\n",
              "\n",
              "        async function convertToInteractive(key) {\n",
              "          const element = document.querySelector('#df-9ab93816-b422-4d43-a9d9-c458eeef18d7');\n",
              "          const dataTable =\n",
              "            await google.colab.kernel.invokeFunction('convertToInteractive',\n",
              "                                                     [key], {});\n",
              "          if (!dataTable) return;\n",
              "\n",
              "          const docLinkHtml = 'Like what you see? Visit the ' +\n",
              "            '<a target=\"_blank\" href=https://colab.research.google.com/notebooks/data_table.ipynb>data table notebook</a>'\n",
              "            + ' to learn more about interactive tables.';\n",
              "          element.innerHTML = '';\n",
              "          dataTable['output_type'] = 'display_data';\n",
              "          await google.colab.output.renderOutput(dataTable, element);\n",
              "          const docLink = document.createElement('div');\n",
              "          docLink.innerHTML = docLinkHtml;\n",
              "          element.appendChild(docLink);\n",
              "        }\n",
              "      </script>\n",
              "    </div>\n",
              "  </div>\n",
              "  "
            ]
          },
          "metadata": {},
          "execution_count": 30
        }
      ]
    },
    {
      "cell_type": "code",
      "source": [
        "df.info()"
      ],
      "metadata": {
        "colab": {
          "base_uri": "https://localhost:8080/"
        },
        "id": "QJBeLtXs0WKb",
        "outputId": "4d12c1c0-c6e8-4435-ad89-8e7cf3b13d07"
      },
      "execution_count": null,
      "outputs": [
        {
          "output_type": "stream",
          "name": "stdout",
          "text": [
            "<class 'pandas.core.frame.DataFrame'>\n",
            "RangeIndex: 5667717 entries, 0 to 5667716\n",
            "Data columns (total 13 columns):\n",
            " #   Column              Dtype  \n",
            "---  ------              -----  \n",
            " 0   ride_id             object \n",
            " 1   rideable_type       object \n",
            " 2   started_at          object \n",
            " 3   ended_at            object \n",
            " 4   start_station_name  object \n",
            " 5   start_station_id    object \n",
            " 6   end_station_name    object \n",
            " 7   end_station_id      object \n",
            " 8   start_lat           float64\n",
            " 9   start_lng           float64\n",
            " 10  end_lat             float64\n",
            " 11  end_lng             float64\n",
            " 12  member_casual       object \n",
            "dtypes: float64(4), object(9)\n",
            "memory usage: 562.1+ MB\n"
          ]
        }
      ]
    },
    {
      "cell_type": "code",
      "source": [
        "# Checking missing values / missing data\n",
        "df.isnull().sum()"
      ],
      "metadata": {
        "colab": {
          "base_uri": "https://localhost:8080/"
        },
        "id": "jdXY7MIF30WD",
        "outputId": "0b898de7-c50d-4747-e024-7480293ba610"
      },
      "execution_count": null,
      "outputs": [
        {
          "output_type": "execute_result",
          "data": {
            "text/plain": [
              "ride_id                    0\n",
              "rideable_type              0\n",
              "started_at                 0\n",
              "ended_at                   0\n",
              "start_station_name    833064\n",
              "start_station_id      833064\n",
              "end_station_name      892742\n",
              "end_station_id        892742\n",
              "start_lat                  0\n",
              "start_lng                  0\n",
              "end_lat                 5858\n",
              "end_lng                 5858\n",
              "member_casual              0\n",
              "dtype: int64"
            ]
          },
          "metadata": {},
          "execution_count": 32
        }
      ]
    },
    {
      "cell_type": "code",
      "source": [
        "# Check member_casual column\n",
        "df['member_casual'].value_counts()"
      ],
      "metadata": {
        "colab": {
          "base_uri": "https://localhost:8080/"
        },
        "id": "-kmjoqTWfoZg",
        "outputId": "b689fc2d-b3ba-40d9-fef7-1eadc5bd68ac"
      },
      "execution_count": null,
      "outputs": [
        {
          "output_type": "execute_result",
          "data": {
            "text/plain": [
              "member    3345685\n",
              "casual    2322032\n",
              "Name: member_casual, dtype: int64"
            ]
          },
          "metadata": {},
          "execution_count": 33
        }
      ]
    },
    {
      "cell_type": "markdown",
      "source": [
        "The following cleaning and manipulation steps were performed on the data:\n",
        "- The 'started_at' and 'ended_at' columns were converted to datetime format.\n",
        "- A new column named 'ride_length' was created by calculating the time difference between the start and end times.\n",
        "- Trips with a duration of less than 0 minute as they were considered to be errors.\n"
      ],
      "metadata": {
        "id": "Bs5Viz0gz6Rp"
      }
    },
    {
      "cell_type": "markdown",
      "source": [
        "## Rename columns"
      ],
      "metadata": {
        "id": "nNPRgDkB7pw-"
      }
    },
    {
      "cell_type": "code",
      "source": [
        "# Rename columns\n",
        "df = df.rename(columns={'rideable_type':'bike_type', 'member_casual':'customer_type'})"
      ],
      "metadata": {
        "id": "jHtC2N8T5zZm"
      },
      "execution_count": null,
      "outputs": []
    },
    {
      "cell_type": "markdown",
      "source": [
        "## Change the data type"
      ],
      "metadata": {
        "id": "nSgp773Z7jf1"
      }
    },
    {
      "cell_type": "code",
      "source": [
        "# Convert started_at column to datetime format\n",
        "df['started_at'] = pd.to_datetime(df['started_at']) \n",
        "# Convert ended_at column to datetime format\n",
        "df['ended_at'] = pd.to_datetime(df['ended_at']) "
      ],
      "metadata": {
        "id": "soxnM1K2iI6W"
      },
      "execution_count": null,
      "outputs": []
    },
    {
      "cell_type": "markdown",
      "source": [
        "## Create column"
      ],
      "metadata": {
        "id": "Wm7-hnNG7l-V"
      }
    },
    {
      "cell_type": "code",
      "source": [
        "# Add additional columns of data for day, month, year\n",
        "df['weekday'] = df['started_at'].dt.day_name() # Add day of week column\n",
        "df['month'] = df['started_at'].dt.month_name() # Add month column\n",
        "df['year'] = df['started_at'].dt.year # Add year column"
      ],
      "metadata": {
        "id": "JmK_8BRI6RRs"
      },
      "execution_count": null,
      "outputs": []
    },
    {
      "cell_type": "code",
      "source": [
        "# Calculate ride length and add ride_length column\n",
        "df['ride_length'] = (df['ended_at'] - df['started_at']).dt.total_seconds() / 60"
      ],
      "metadata": {
        "id": "-COtF2JafynR"
      },
      "execution_count": null,
      "outputs": []
    },
    {
      "cell_type": "markdown",
      "source": [
        "## Remove wrong data and outliers"
      ],
      "metadata": {
        "id": "s3pXZPsC8A8W"
      }
    },
    {
      "cell_type": "code",
      "source": [
        "# Counting rows that have the same start and end station name, and ride length less than 1 minute\n",
        "df_short_ride = df.loc[(df['start_station_name'] == df['end_station_name']) & (df['ride_length']<1)].copy()\n",
        "df_short_ride"
      ],
      "metadata": {
        "colab": {
          "base_uri": "https://localhost:8080/",
          "height": 834
        },
        "id": "kVTl6B9Y-WaR",
        "outputId": "8b0d6bbe-fc4b-40f1-8328-baa8834ffb55"
      },
      "execution_count": null,
      "outputs": [
        {
          "output_type": "execute_result",
          "data": {
            "text/plain": [
              "                  ride_id      bike_type          started_at  \\\n",
              "15       7DD70C4AA0F3EA7B   classic_bike 2022-01-14 05:47:07   \n",
              "73       64CA42FCA02E5148   classic_bike 2022-01-12 14:37:54   \n",
              "123      22096565E8AF075C   classic_bike 2022-01-14 16:10:37   \n",
              "158      DB3BD626BB3253C9   classic_bike 2022-01-02 07:27:56   \n",
              "203      B0F160012485900B   classic_bike 2022-01-10 07:28:27   \n",
              "...                   ...            ...                 ...   \n",
              "5663741  869F0EFA3933E5AB   classic_bike 2022-12-13 18:05:16   \n",
              "5663747  584BEFF96E1925A3  electric_bike 2022-12-30 10:08:14   \n",
              "5663771  4628E3AF516C29EB  electric_bike 2022-12-31 19:58:05   \n",
              "5663773  C5F5D8CFB65E26A0  electric_bike 2022-12-18 13:49:58   \n",
              "5663777  90D3C51201496D60  electric_bike 2022-12-30 15:10:00   \n",
              "\n",
              "                   ended_at             start_station_name start_station_id  \\\n",
              "15      2022-01-14 05:47:39      Lincoln Park Conservatory              LP-   \n",
              "73      2022-01-12 14:38:07          State St & Pearson St     TA1307000061   \n",
              "123     2022-01-14 16:10:45           Clinton St & Lake St            13021   \n",
              "158     2022-01-02 07:28:00     Lincoln Ave & Waveland Ave            13253   \n",
              "203     2022-01-10 07:28:28  Financial Pl & Ida B Wells Dr           SL-010   \n",
              "...                     ...                            ...              ...   \n",
              "5663741 2022-12-13 18:06:13   Michigan Ave & Washington St            13001   \n",
              "5663747 2022-12-30 10:09:07   Michigan Ave & Washington St            13001   \n",
              "5663771 2022-12-31 19:58:47   Michigan Ave & Washington St            13001   \n",
              "5663773 2022-12-18 13:50:05        Wood St & Milwaukee Ave            13221   \n",
              "5663777 2022-12-30 15:10:55      Franklin St & Chicago Ave            13017   \n",
              "\n",
              "                      end_station_name end_station_id  start_lat  start_lng  \\\n",
              "15           Lincoln Park Conservatory            LP-  41.923931 -87.635825   \n",
              "73               State St & Pearson St   TA1307000061  41.897448 -87.628722   \n",
              "123               Clinton St & Lake St          13021  41.885637 -87.641823   \n",
              "158         Lincoln Ave & Waveland Ave          13253  41.948797 -87.675278   \n",
              "203      Financial Pl & Ida B Wells Dr         SL-010  41.875024 -87.633094   \n",
              "...                                ...            ...        ...        ...   \n",
              "5663741   Michigan Ave & Washington St          13001  41.883984 -87.624684   \n",
              "5663747   Michigan Ave & Washington St          13001  41.883994 -87.624676   \n",
              "5663771   Michigan Ave & Washington St          13001  41.884043 -87.624736   \n",
              "5663773        Wood St & Milwaukee Ave          13221  41.907676 -87.672494   \n",
              "5663777      Franklin St & Chicago Ave          13017  41.896984 -87.635616   \n",
              "\n",
              "           end_lat    end_lng customer_type    weekday     month  year  \\\n",
              "15       41.923931 -87.635825        member     Friday   January  2022   \n",
              "73       41.897448 -87.628722        member  Wednesday   January  2022   \n",
              "123      41.885637 -87.641823        member     Friday   January  2022   \n",
              "158      41.948797 -87.675278        member     Sunday   January  2022   \n",
              "203      41.875024 -87.633094        member     Monday   January  2022   \n",
              "...            ...        ...           ...        ...       ...   ...   \n",
              "5663741  41.883984 -87.624684        member    Tuesday  December  2022   \n",
              "5663747  41.883984 -87.624684        casual     Friday  December  2022   \n",
              "5663771  41.883984 -87.624684        casual   Saturday  December  2022   \n",
              "5663773  41.907655 -87.672552        casual     Sunday  December  2022   \n",
              "5663777  41.896747 -87.635668        casual     Friday  December  2022   \n",
              "\n",
              "         ride_length  \n",
              "15          0.533333  \n",
              "73          0.216667  \n",
              "123         0.133333  \n",
              "158         0.066667  \n",
              "203         0.016667  \n",
              "...              ...  \n",
              "5663741     0.950000  \n",
              "5663747     0.883333  \n",
              "5663771     0.700000  \n",
              "5663773     0.116667  \n",
              "5663777     0.916667  \n",
              "\n",
              "[74172 rows x 17 columns]"
            ],
            "text/html": [
              "\n",
              "  <div id=\"df-4ccb53f2-1a04-42e3-9172-5c55ad2ed2f6\">\n",
              "    <div class=\"colab-df-container\">\n",
              "      <div>\n",
              "<style scoped>\n",
              "    .dataframe tbody tr th:only-of-type {\n",
              "        vertical-align: middle;\n",
              "    }\n",
              "\n",
              "    .dataframe tbody tr th {\n",
              "        vertical-align: top;\n",
              "    }\n",
              "\n",
              "    .dataframe thead th {\n",
              "        text-align: right;\n",
              "    }\n",
              "</style>\n",
              "<table border=\"1\" class=\"dataframe\">\n",
              "  <thead>\n",
              "    <tr style=\"text-align: right;\">\n",
              "      <th></th>\n",
              "      <th>ride_id</th>\n",
              "      <th>bike_type</th>\n",
              "      <th>started_at</th>\n",
              "      <th>ended_at</th>\n",
              "      <th>start_station_name</th>\n",
              "      <th>start_station_id</th>\n",
              "      <th>end_station_name</th>\n",
              "      <th>end_station_id</th>\n",
              "      <th>start_lat</th>\n",
              "      <th>start_lng</th>\n",
              "      <th>end_lat</th>\n",
              "      <th>end_lng</th>\n",
              "      <th>customer_type</th>\n",
              "      <th>weekday</th>\n",
              "      <th>month</th>\n",
              "      <th>year</th>\n",
              "      <th>ride_length</th>\n",
              "    </tr>\n",
              "  </thead>\n",
              "  <tbody>\n",
              "    <tr>\n",
              "      <th>15</th>\n",
              "      <td>7DD70C4AA0F3EA7B</td>\n",
              "      <td>classic_bike</td>\n",
              "      <td>2022-01-14 05:47:07</td>\n",
              "      <td>2022-01-14 05:47:39</td>\n",
              "      <td>Lincoln Park Conservatory</td>\n",
              "      <td>LP-</td>\n",
              "      <td>Lincoln Park Conservatory</td>\n",
              "      <td>LP-</td>\n",
              "      <td>41.923931</td>\n",
              "      <td>-87.635825</td>\n",
              "      <td>41.923931</td>\n",
              "      <td>-87.635825</td>\n",
              "      <td>member</td>\n",
              "      <td>Friday</td>\n",
              "      <td>January</td>\n",
              "      <td>2022</td>\n",
              "      <td>0.533333</td>\n",
              "    </tr>\n",
              "    <tr>\n",
              "      <th>73</th>\n",
              "      <td>64CA42FCA02E5148</td>\n",
              "      <td>classic_bike</td>\n",
              "      <td>2022-01-12 14:37:54</td>\n",
              "      <td>2022-01-12 14:38:07</td>\n",
              "      <td>State St &amp; Pearson St</td>\n",
              "      <td>TA1307000061</td>\n",
              "      <td>State St &amp; Pearson St</td>\n",
              "      <td>TA1307000061</td>\n",
              "      <td>41.897448</td>\n",
              "      <td>-87.628722</td>\n",
              "      <td>41.897448</td>\n",
              "      <td>-87.628722</td>\n",
              "      <td>member</td>\n",
              "      <td>Wednesday</td>\n",
              "      <td>January</td>\n",
              "      <td>2022</td>\n",
              "      <td>0.216667</td>\n",
              "    </tr>\n",
              "    <tr>\n",
              "      <th>123</th>\n",
              "      <td>22096565E8AF075C</td>\n",
              "      <td>classic_bike</td>\n",
              "      <td>2022-01-14 16:10:37</td>\n",
              "      <td>2022-01-14 16:10:45</td>\n",
              "      <td>Clinton St &amp; Lake St</td>\n",
              "      <td>13021</td>\n",
              "      <td>Clinton St &amp; Lake St</td>\n",
              "      <td>13021</td>\n",
              "      <td>41.885637</td>\n",
              "      <td>-87.641823</td>\n",
              "      <td>41.885637</td>\n",
              "      <td>-87.641823</td>\n",
              "      <td>member</td>\n",
              "      <td>Friday</td>\n",
              "      <td>January</td>\n",
              "      <td>2022</td>\n",
              "      <td>0.133333</td>\n",
              "    </tr>\n",
              "    <tr>\n",
              "      <th>158</th>\n",
              "      <td>DB3BD626BB3253C9</td>\n",
              "      <td>classic_bike</td>\n",
              "      <td>2022-01-02 07:27:56</td>\n",
              "      <td>2022-01-02 07:28:00</td>\n",
              "      <td>Lincoln Ave &amp; Waveland Ave</td>\n",
              "      <td>13253</td>\n",
              "      <td>Lincoln Ave &amp; Waveland Ave</td>\n",
              "      <td>13253</td>\n",
              "      <td>41.948797</td>\n",
              "      <td>-87.675278</td>\n",
              "      <td>41.948797</td>\n",
              "      <td>-87.675278</td>\n",
              "      <td>member</td>\n",
              "      <td>Sunday</td>\n",
              "      <td>January</td>\n",
              "      <td>2022</td>\n",
              "      <td>0.066667</td>\n",
              "    </tr>\n",
              "    <tr>\n",
              "      <th>203</th>\n",
              "      <td>B0F160012485900B</td>\n",
              "      <td>classic_bike</td>\n",
              "      <td>2022-01-10 07:28:27</td>\n",
              "      <td>2022-01-10 07:28:28</td>\n",
              "      <td>Financial Pl &amp; Ida B Wells Dr</td>\n",
              "      <td>SL-010</td>\n",
              "      <td>Financial Pl &amp; Ida B Wells Dr</td>\n",
              "      <td>SL-010</td>\n",
              "      <td>41.875024</td>\n",
              "      <td>-87.633094</td>\n",
              "      <td>41.875024</td>\n",
              "      <td>-87.633094</td>\n",
              "      <td>member</td>\n",
              "      <td>Monday</td>\n",
              "      <td>January</td>\n",
              "      <td>2022</td>\n",
              "      <td>0.016667</td>\n",
              "    </tr>\n",
              "    <tr>\n",
              "      <th>...</th>\n",
              "      <td>...</td>\n",
              "      <td>...</td>\n",
              "      <td>...</td>\n",
              "      <td>...</td>\n",
              "      <td>...</td>\n",
              "      <td>...</td>\n",
              "      <td>...</td>\n",
              "      <td>...</td>\n",
              "      <td>...</td>\n",
              "      <td>...</td>\n",
              "      <td>...</td>\n",
              "      <td>...</td>\n",
              "      <td>...</td>\n",
              "      <td>...</td>\n",
              "      <td>...</td>\n",
              "      <td>...</td>\n",
              "      <td>...</td>\n",
              "    </tr>\n",
              "    <tr>\n",
              "      <th>5663741</th>\n",
              "      <td>869F0EFA3933E5AB</td>\n",
              "      <td>classic_bike</td>\n",
              "      <td>2022-12-13 18:05:16</td>\n",
              "      <td>2022-12-13 18:06:13</td>\n",
              "      <td>Michigan Ave &amp; Washington St</td>\n",
              "      <td>13001</td>\n",
              "      <td>Michigan Ave &amp; Washington St</td>\n",
              "      <td>13001</td>\n",
              "      <td>41.883984</td>\n",
              "      <td>-87.624684</td>\n",
              "      <td>41.883984</td>\n",
              "      <td>-87.624684</td>\n",
              "      <td>member</td>\n",
              "      <td>Tuesday</td>\n",
              "      <td>December</td>\n",
              "      <td>2022</td>\n",
              "      <td>0.950000</td>\n",
              "    </tr>\n",
              "    <tr>\n",
              "      <th>5663747</th>\n",
              "      <td>584BEFF96E1925A3</td>\n",
              "      <td>electric_bike</td>\n",
              "      <td>2022-12-30 10:08:14</td>\n",
              "      <td>2022-12-30 10:09:07</td>\n",
              "      <td>Michigan Ave &amp; Washington St</td>\n",
              "      <td>13001</td>\n",
              "      <td>Michigan Ave &amp; Washington St</td>\n",
              "      <td>13001</td>\n",
              "      <td>41.883994</td>\n",
              "      <td>-87.624676</td>\n",
              "      <td>41.883984</td>\n",
              "      <td>-87.624684</td>\n",
              "      <td>casual</td>\n",
              "      <td>Friday</td>\n",
              "      <td>December</td>\n",
              "      <td>2022</td>\n",
              "      <td>0.883333</td>\n",
              "    </tr>\n",
              "    <tr>\n",
              "      <th>5663771</th>\n",
              "      <td>4628E3AF516C29EB</td>\n",
              "      <td>electric_bike</td>\n",
              "      <td>2022-12-31 19:58:05</td>\n",
              "      <td>2022-12-31 19:58:47</td>\n",
              "      <td>Michigan Ave &amp; Washington St</td>\n",
              "      <td>13001</td>\n",
              "      <td>Michigan Ave &amp; Washington St</td>\n",
              "      <td>13001</td>\n",
              "      <td>41.884043</td>\n",
              "      <td>-87.624736</td>\n",
              "      <td>41.883984</td>\n",
              "      <td>-87.624684</td>\n",
              "      <td>casual</td>\n",
              "      <td>Saturday</td>\n",
              "      <td>December</td>\n",
              "      <td>2022</td>\n",
              "      <td>0.700000</td>\n",
              "    </tr>\n",
              "    <tr>\n",
              "      <th>5663773</th>\n",
              "      <td>C5F5D8CFB65E26A0</td>\n",
              "      <td>electric_bike</td>\n",
              "      <td>2022-12-18 13:49:58</td>\n",
              "      <td>2022-12-18 13:50:05</td>\n",
              "      <td>Wood St &amp; Milwaukee Ave</td>\n",
              "      <td>13221</td>\n",
              "      <td>Wood St &amp; Milwaukee Ave</td>\n",
              "      <td>13221</td>\n",
              "      <td>41.907676</td>\n",
              "      <td>-87.672494</td>\n",
              "      <td>41.907655</td>\n",
              "      <td>-87.672552</td>\n",
              "      <td>casual</td>\n",
              "      <td>Sunday</td>\n",
              "      <td>December</td>\n",
              "      <td>2022</td>\n",
              "      <td>0.116667</td>\n",
              "    </tr>\n",
              "    <tr>\n",
              "      <th>5663777</th>\n",
              "      <td>90D3C51201496D60</td>\n",
              "      <td>electric_bike</td>\n",
              "      <td>2022-12-30 15:10:00</td>\n",
              "      <td>2022-12-30 15:10:55</td>\n",
              "      <td>Franklin St &amp; Chicago Ave</td>\n",
              "      <td>13017</td>\n",
              "      <td>Franklin St &amp; Chicago Ave</td>\n",
              "      <td>13017</td>\n",
              "      <td>41.896984</td>\n",
              "      <td>-87.635616</td>\n",
              "      <td>41.896747</td>\n",
              "      <td>-87.635668</td>\n",
              "      <td>casual</td>\n",
              "      <td>Friday</td>\n",
              "      <td>December</td>\n",
              "      <td>2022</td>\n",
              "      <td>0.916667</td>\n",
              "    </tr>\n",
              "  </tbody>\n",
              "</table>\n",
              "<p>74172 rows × 17 columns</p>\n",
              "</div>\n",
              "      <button class=\"colab-df-convert\" onclick=\"convertToInteractive('df-4ccb53f2-1a04-42e3-9172-5c55ad2ed2f6')\"\n",
              "              title=\"Convert this dataframe to an interactive table.\"\n",
              "              style=\"display:none;\">\n",
              "        \n",
              "  <svg xmlns=\"http://www.w3.org/2000/svg\" height=\"24px\"viewBox=\"0 0 24 24\"\n",
              "       width=\"24px\">\n",
              "    <path d=\"M0 0h24v24H0V0z\" fill=\"none\"/>\n",
              "    <path d=\"M18.56 5.44l.94 2.06.94-2.06 2.06-.94-2.06-.94-.94-2.06-.94 2.06-2.06.94zm-11 1L8.5 8.5l.94-2.06 2.06-.94-2.06-.94L8.5 2.5l-.94 2.06-2.06.94zm10 10l.94 2.06.94-2.06 2.06-.94-2.06-.94-.94-2.06-.94 2.06-2.06.94z\"/><path d=\"M17.41 7.96l-1.37-1.37c-.4-.4-.92-.59-1.43-.59-.52 0-1.04.2-1.43.59L10.3 9.45l-7.72 7.72c-.78.78-.78 2.05 0 2.83L4 21.41c.39.39.9.59 1.41.59.51 0 1.02-.2 1.41-.59l7.78-7.78 2.81-2.81c.8-.78.8-2.07 0-2.86zM5.41 20L4 18.59l7.72-7.72 1.47 1.35L5.41 20z\"/>\n",
              "  </svg>\n",
              "      </button>\n",
              "      \n",
              "  <style>\n",
              "    .colab-df-container {\n",
              "      display:flex;\n",
              "      flex-wrap:wrap;\n",
              "      gap: 12px;\n",
              "    }\n",
              "\n",
              "    .colab-df-convert {\n",
              "      background-color: #E8F0FE;\n",
              "      border: none;\n",
              "      border-radius: 50%;\n",
              "      cursor: pointer;\n",
              "      display: none;\n",
              "      fill: #1967D2;\n",
              "      height: 32px;\n",
              "      padding: 0 0 0 0;\n",
              "      width: 32px;\n",
              "    }\n",
              "\n",
              "    .colab-df-convert:hover {\n",
              "      background-color: #E2EBFA;\n",
              "      box-shadow: 0px 1px 2px rgba(60, 64, 67, 0.3), 0px 1px 3px 1px rgba(60, 64, 67, 0.15);\n",
              "      fill: #174EA6;\n",
              "    }\n",
              "\n",
              "    [theme=dark] .colab-df-convert {\n",
              "      background-color: #3B4455;\n",
              "      fill: #D2E3FC;\n",
              "    }\n",
              "\n",
              "    [theme=dark] .colab-df-convert:hover {\n",
              "      background-color: #434B5C;\n",
              "      box-shadow: 0px 1px 3px 1px rgba(0, 0, 0, 0.15);\n",
              "      filter: drop-shadow(0px 1px 2px rgba(0, 0, 0, 0.3));\n",
              "      fill: #FFFFFF;\n",
              "    }\n",
              "  </style>\n",
              "\n",
              "      <script>\n",
              "        const buttonEl =\n",
              "          document.querySelector('#df-4ccb53f2-1a04-42e3-9172-5c55ad2ed2f6 button.colab-df-convert');\n",
              "        buttonEl.style.display =\n",
              "          google.colab.kernel.accessAllowed ? 'block' : 'none';\n",
              "\n",
              "        async function convertToInteractive(key) {\n",
              "          const element = document.querySelector('#df-4ccb53f2-1a04-42e3-9172-5c55ad2ed2f6');\n",
              "          const dataTable =\n",
              "            await google.colab.kernel.invokeFunction('convertToInteractive',\n",
              "                                                     [key], {});\n",
              "          if (!dataTable) return;\n",
              "\n",
              "          const docLinkHtml = 'Like what you see? Visit the ' +\n",
              "            '<a target=\"_blank\" href=https://colab.research.google.com/notebooks/data_table.ipynb>data table notebook</a>'\n",
              "            + ' to learn more about interactive tables.';\n",
              "          element.innerHTML = '';\n",
              "          dataTable['output_type'] = 'display_data';\n",
              "          await google.colab.output.renderOutput(dataTable, element);\n",
              "          const docLink = document.createElement('div');\n",
              "          docLink.innerHTML = docLinkHtml;\n",
              "          element.appendChild(docLink);\n",
              "        }\n",
              "      </script>\n",
              "    </div>\n",
              "  </div>\n",
              "  "
            ]
          },
          "metadata": {},
          "execution_count": 38
        }
      ]
    },
    {
      "cell_type": "markdown",
      "source": [
        "There are 74172 cases where start station name and end station name is the same, and ride length less than 1 minute. Those rows can be dropped assuming that it occurred because the customers cancelled the ride and docked the bike back to the station."
      ],
      "metadata": {
        "id": "FHow8z-3-vDW"
      }
    },
    {
      "cell_type": "code",
      "source": [
        "#drop the rows where start and end station names are the same and ride length is less than 1 minute \n",
        "df = df.drop(df_short_ride.index)"
      ],
      "metadata": {
        "id": "TddXLAX5AMDQ"
      },
      "execution_count": null,
      "outputs": []
    },
    {
      "cell_type": "code",
      "source": [
        "# create a new version of the dataframe without \"bad\" data\n",
        "df_v2 = df[(df['start_station_name'] != 'HQ QR') & (df['ride_length'] >= 0)]\n",
        "df_v2 = df_v2.reset_index(drop=True)"
      ],
      "metadata": {
        "id": "8oNYNM9cjBbV"
      },
      "execution_count": null,
      "outputs": []
    },
    {
      "cell_type": "code",
      "source": [
        "df_v2.info()"
      ],
      "metadata": {
        "colab": {
          "base_uri": "https://localhost:8080/"
        },
        "id": "BFPAMLkX2zd0",
        "outputId": "f7183874-9574-40e2-d61c-5c8072ea2bcb"
      },
      "execution_count": null,
      "outputs": [
        {
          "output_type": "stream",
          "name": "stdout",
          "text": [
            "<class 'pandas.core.frame.DataFrame'>\n",
            "RangeIndex: 5593487 entries, 0 to 5593486\n",
            "Data columns (total 17 columns):\n",
            " #   Column              Dtype         \n",
            "---  ------              -----         \n",
            " 0   ride_id             object        \n",
            " 1   bike_type           object        \n",
            " 2   started_at          datetime64[ns]\n",
            " 3   ended_at            datetime64[ns]\n",
            " 4   start_station_name  object        \n",
            " 5   start_station_id    object        \n",
            " 6   end_station_name    object        \n",
            " 7   end_station_id      object        \n",
            " 8   start_lat           float64       \n",
            " 9   start_lng           float64       \n",
            " 10  end_lat             float64       \n",
            " 11  end_lng             float64       \n",
            " 12  customer_type       object        \n",
            " 13  weekday             object        \n",
            " 14  month               object        \n",
            " 15  year                int64         \n",
            " 16  ride_length         float64       \n",
            "dtypes: datetime64[ns](2), float64(5), int64(1), object(9)\n",
            "memory usage: 725.5+ MB\n"
          ]
        }
      ]
    },
    {
      "cell_type": "markdown",
      "source": [
        "# ANALYZE DATA\n",
        "\n",
        "\n",
        "\n"
      ],
      "metadata": {
        "id": "PBljxWIZjWN9"
      }
    },
    {
      "cell_type": "code",
      "source": [
        "# Descriptive analysis on ride_length\n",
        "df_v2['ride_length'].describe()"
      ],
      "metadata": {
        "colab": {
          "base_uri": "https://localhost:8080/"
        },
        "id": "zGYa-QlMkCPM",
        "outputId": "65376229-b09e-4ea8-f0d7-dbac51f07681"
      },
      "execution_count": null,
      "outputs": [
        {
          "output_type": "execute_result",
          "data": {
            "text/plain": [
              "count    5.593487e+06\n",
              "mean     1.969824e+01\n",
              "std      1.772248e+02\n",
              "min      0.000000e+00\n",
              "25%      5.966667e+00\n",
              "50%      1.043333e+01\n",
              "75%      1.863333e+01\n",
              "max      4.138725e+04\n",
              "Name: ride_length, dtype: float64"
            ]
          },
          "metadata": {},
          "execution_count": 42
        }
      ]
    },
    {
      "cell_type": "markdown",
      "source": [
        "# Customer Type"
      ],
      "metadata": {
        "id": "XHzbeFBGMvzk"
      }
    },
    {
      "cell_type": "code",
      "source": [
        "# Count the number of rides for each rider type\n",
        "ride_counts = df_v2['customer_type'].value_counts()\n",
        "\n",
        "# Calculate the percentage of annual members and casual riders\n",
        "annual_member_pct = (ride_counts['member'] / len(df)) * 100\n",
        "casual_rider_pct = (ride_counts['casual'] / len(df)) * 100\n",
        "\n",
        "# Print the results\n",
        "print(f\"The percentage of annual members is {annual_member_pct:.2f}%\")\n",
        "print(f\"The percentage of casual riders is {casual_rider_pct:.2f}%\")\n"
      ],
      "metadata": {
        "colab": {
          "base_uri": "https://localhost:8080/"
        },
        "id": "aPM4dn3kHFnG",
        "outputId": "0416c9e4-143d-4bb0-8775-0146df13b9c7"
      },
      "execution_count": null,
      "outputs": [
        {
          "output_type": "stream",
          "name": "stdout",
          "text": [
            "The percentage of annual members is 58.96%\n",
            "The percentage of casual riders is 41.04%\n"
          ]
        }
      ]
    },
    {
      "cell_type": "markdown",
      "source": [
        "Cyclistic has more subscribed annual members (59%)  than casual riders (41%)\n"
      ],
      "metadata": {
        "id": "NinMuS6DJdZz"
      }
    },
    {
      "cell_type": "code",
      "source": [
        "# Compare members and casual users\n",
        "df_v2.groupby('customer_type')['ride_length'].agg(['mean', 'median', 'max', 'min'])"
      ],
      "metadata": {
        "colab": {
          "base_uri": "https://localhost:8080/",
          "height": 143
        },
        "id": "DwImcHiMkq1Q",
        "outputId": "6b12d08e-6a06-4cb1-a149-fb1f890553b3"
      },
      "execution_count": null,
      "outputs": [
        {
          "output_type": "execute_result",
          "data": {
            "text/plain": [
              "                    mean     median       max  min\n",
              "customer_type                                     \n",
              "casual         29.478704  13.166667  41387.25  0.0\n",
              "member         12.891465   8.950000   1559.90  0.0"
            ],
            "text/html": [
              "\n",
              "  <div id=\"df-b760caa1-1a1e-4c3e-b5b8-e245787927b6\">\n",
              "    <div class=\"colab-df-container\">\n",
              "      <div>\n",
              "<style scoped>\n",
              "    .dataframe tbody tr th:only-of-type {\n",
              "        vertical-align: middle;\n",
              "    }\n",
              "\n",
              "    .dataframe tbody tr th {\n",
              "        vertical-align: top;\n",
              "    }\n",
              "\n",
              "    .dataframe thead th {\n",
              "        text-align: right;\n",
              "    }\n",
              "</style>\n",
              "<table border=\"1\" class=\"dataframe\">\n",
              "  <thead>\n",
              "    <tr style=\"text-align: right;\">\n",
              "      <th></th>\n",
              "      <th>mean</th>\n",
              "      <th>median</th>\n",
              "      <th>max</th>\n",
              "      <th>min</th>\n",
              "    </tr>\n",
              "    <tr>\n",
              "      <th>customer_type</th>\n",
              "      <th></th>\n",
              "      <th></th>\n",
              "      <th></th>\n",
              "      <th></th>\n",
              "    </tr>\n",
              "  </thead>\n",
              "  <tbody>\n",
              "    <tr>\n",
              "      <th>casual</th>\n",
              "      <td>29.478704</td>\n",
              "      <td>13.166667</td>\n",
              "      <td>41387.25</td>\n",
              "      <td>0.0</td>\n",
              "    </tr>\n",
              "    <tr>\n",
              "      <th>member</th>\n",
              "      <td>12.891465</td>\n",
              "      <td>8.950000</td>\n",
              "      <td>1559.90</td>\n",
              "      <td>0.0</td>\n",
              "    </tr>\n",
              "  </tbody>\n",
              "</table>\n",
              "</div>\n",
              "      <button class=\"colab-df-convert\" onclick=\"convertToInteractive('df-b760caa1-1a1e-4c3e-b5b8-e245787927b6')\"\n",
              "              title=\"Convert this dataframe to an interactive table.\"\n",
              "              style=\"display:none;\">\n",
              "        \n",
              "  <svg xmlns=\"http://www.w3.org/2000/svg\" height=\"24px\"viewBox=\"0 0 24 24\"\n",
              "       width=\"24px\">\n",
              "    <path d=\"M0 0h24v24H0V0z\" fill=\"none\"/>\n",
              "    <path d=\"M18.56 5.44l.94 2.06.94-2.06 2.06-.94-2.06-.94-.94-2.06-.94 2.06-2.06.94zm-11 1L8.5 8.5l.94-2.06 2.06-.94-2.06-.94L8.5 2.5l-.94 2.06-2.06.94zm10 10l.94 2.06.94-2.06 2.06-.94-2.06-.94-.94-2.06-.94 2.06-2.06.94z\"/><path d=\"M17.41 7.96l-1.37-1.37c-.4-.4-.92-.59-1.43-.59-.52 0-1.04.2-1.43.59L10.3 9.45l-7.72 7.72c-.78.78-.78 2.05 0 2.83L4 21.41c.39.39.9.59 1.41.59.51 0 1.02-.2 1.41-.59l7.78-7.78 2.81-2.81c.8-.78.8-2.07 0-2.86zM5.41 20L4 18.59l7.72-7.72 1.47 1.35L5.41 20z\"/>\n",
              "  </svg>\n",
              "      </button>\n",
              "      \n",
              "  <style>\n",
              "    .colab-df-container {\n",
              "      display:flex;\n",
              "      flex-wrap:wrap;\n",
              "      gap: 12px;\n",
              "    }\n",
              "\n",
              "    .colab-df-convert {\n",
              "      background-color: #E8F0FE;\n",
              "      border: none;\n",
              "      border-radius: 50%;\n",
              "      cursor: pointer;\n",
              "      display: none;\n",
              "      fill: #1967D2;\n",
              "      height: 32px;\n",
              "      padding: 0 0 0 0;\n",
              "      width: 32px;\n",
              "    }\n",
              "\n",
              "    .colab-df-convert:hover {\n",
              "      background-color: #E2EBFA;\n",
              "      box-shadow: 0px 1px 2px rgba(60, 64, 67, 0.3), 0px 1px 3px 1px rgba(60, 64, 67, 0.15);\n",
              "      fill: #174EA6;\n",
              "    }\n",
              "\n",
              "    [theme=dark] .colab-df-convert {\n",
              "      background-color: #3B4455;\n",
              "      fill: #D2E3FC;\n",
              "    }\n",
              "\n",
              "    [theme=dark] .colab-df-convert:hover {\n",
              "      background-color: #434B5C;\n",
              "      box-shadow: 0px 1px 3px 1px rgba(0, 0, 0, 0.15);\n",
              "      filter: drop-shadow(0px 1px 2px rgba(0, 0, 0, 0.3));\n",
              "      fill: #FFFFFF;\n",
              "    }\n",
              "  </style>\n",
              "\n",
              "      <script>\n",
              "        const buttonEl =\n",
              "          document.querySelector('#df-b760caa1-1a1e-4c3e-b5b8-e245787927b6 button.colab-df-convert');\n",
              "        buttonEl.style.display =\n",
              "          google.colab.kernel.accessAllowed ? 'block' : 'none';\n",
              "\n",
              "        async function convertToInteractive(key) {\n",
              "          const element = document.querySelector('#df-b760caa1-1a1e-4c3e-b5b8-e245787927b6');\n",
              "          const dataTable =\n",
              "            await google.colab.kernel.invokeFunction('convertToInteractive',\n",
              "                                                     [key], {});\n",
              "          if (!dataTable) return;\n",
              "\n",
              "          const docLinkHtml = 'Like what you see? Visit the ' +\n",
              "            '<a target=\"_blank\" href=https://colab.research.google.com/notebooks/data_table.ipynb>data table notebook</a>'\n",
              "            + ' to learn more about interactive tables.';\n",
              "          element.innerHTML = '';\n",
              "          dataTable['output_type'] = 'display_data';\n",
              "          await google.colab.output.renderOutput(dataTable, element);\n",
              "          const docLink = document.createElement('div');\n",
              "          docLink.innerHTML = docLinkHtml;\n",
              "          element.appendChild(docLink);\n",
              "        }\n",
              "      </script>\n",
              "    </div>\n",
              "  </div>\n",
              "  "
            ]
          },
          "metadata": {},
          "execution_count": 44
        }
      ]
    },
    {
      "cell_type": "code",
      "source": [
        "import seaborn as sns\n",
        "# Create a boxplot comparing ride length of annual members and casual riders\n",
        "sns.boxplot(data=df_v2, x='customer_type', y='ride_length')"
      ],
      "metadata": {
        "colab": {
          "base_uri": "https://localhost:8080/",
          "height": 297
        },
        "id": "RvQMqGZDDqOR",
        "outputId": "401eb1a9-a689-4415-fabf-8ec69fd2c041"
      },
      "execution_count": null,
      "outputs": [
        {
          "output_type": "execute_result",
          "data": {
            "text/plain": [
              "<AxesSubplot:xlabel='customer_type', ylabel='ride_length'>"
            ]
          },
          "metadata": {},
          "execution_count": 45
        },
        {
          "output_type": "display_data",
          "data": {
            "text/plain": [
              "<Figure size 432x288 with 1 Axes>"
            ],
            "image/png": "[encoded data removed]"
          },
          "metadata": {
            "needs_background": "light"
          }
        }
      ]
    },
    {
      "cell_type": "markdown",
      "source": [
        "The ride length for casual has a long tail, with some outliers taking very long rides."
      ],
      "metadata": {
        "id": "OKEeF-YkD-iZ"
      }
    },
    {
      "cell_type": "code",
      "source": [
        "# See the average ride time by each day for members vs casual users\n",
        "df_v2.groupby(['customer_type', 'weekday'])['ride_length'].mean()"
      ],
      "metadata": {
        "colab": {
          "base_uri": "https://localhost:8080/"
        },
        "id": "ih6x30Q7lQO0",
        "outputId": "017c5579-eee9-42fb-e171-415f177961a3"
      },
      "execution_count": null,
      "outputs": [
        {
          "output_type": "execute_result",
          "data": {
            "text/plain": [
              "customer_type  weekday  \n",
              "casual         Friday       28.359188\n",
              "               Monday       29.520295\n",
              "               Saturday     33.004297\n",
              "               Sunday       34.464404\n",
              "               Thursday     25.827153\n",
              "               Tuesday      26.108223\n",
              "               Wednesday    25.021425\n",
              "member         Friday       12.706645\n",
              "               Monday       12.437340\n",
              "               Saturday     14.352446\n",
              "               Sunday       14.243380\n",
              "               Thursday     12.458223\n",
              "               Tuesday      12.290322\n",
              "               Wednesday    12.269764\n",
              "Name: ride_length, dtype: float64"
            ]
          },
          "metadata": {},
          "execution_count": 46
        }
      ]
    },
    {
      "cell_type": "code",
      "source": [
        "# Notice that the days of the week are out of order. Let's fix that.\n",
        "from pandas.api.types import CategoricalDtype\n",
        "weekday_order = CategoricalDtype(categories=[\"Monday\", \"Tuesday\", \"Wednesday\", \"Thursday\", \"Friday\", \"Saturday\",\"Sunday\",], ordered=True)\n",
        "df_v2['weekday'] = df_v2['weekday'].astype(weekday_order)"
      ],
      "metadata": {
        "id": "yvUim9Z3lnaz"
      },
      "execution_count": null,
      "outputs": []
    },
    {
      "cell_type": "markdown",
      "source": [
        "# Ride Duration"
      ],
      "metadata": {
        "id": "LDPA95Y4M7jS"
      }
    },
    {
      "cell_type": "code",
      "source": [
        "#  Analyze ridership data by type and weekday\n",
        "rides_by_type_and_weekday = df_v2.groupby(['customer_type', 'weekday']).agg(number_of_rides=('ride_id', 'count'), average_duration=('ride_length', 'mean')).reset_index()\n",
        "# Sort by customer_type and weekday\n",
        "rides_by_type_and_weekday = rides_by_type_and_weekday.sort_values(['customer_type', 'weekday'])\n",
        "rides_by_type_and_weekday\n"
      ],
      "metadata": {
        "colab": {
          "base_uri": "https://localhost:8080/",
          "height": 488
        },
        "id": "UlClXsfAmy5t",
        "outputId": "96a5bc85-b6cd-4414-f1d4-0122610785fb"
      },
      "execution_count": null,
      "outputs": [
        {
          "output_type": "execute_result",
          "data": {
            "text/plain": [
              "   customer_type    weekday  number_of_rides  average_duration\n",
              "0         casual     Monday           274491         29.520295\n",
              "1         casual    Tuesday           260800         26.108223\n",
              "2         casual  Wednesday           271335         25.021425\n",
              "3         casual   Thursday           305925         25.827153\n",
              "4         casual     Friday           330923         28.359188\n",
              "5         casual   Saturday           467516         33.004297\n",
              "6         casual     Sunday           384364         34.464404\n",
              "7         member     Monday           466762         12.437340\n",
              "8         member    Tuesday           511606         12.290322\n",
              "9         member  Wednesday           516597         12.269764\n",
              "10        member   Thursday           524953         12.458223\n",
              "11        member     Friday           460412         12.706645\n",
              "12        member   Saturday           436528         14.352446\n",
              "13        member     Sunday           381275         14.243380"
            ],
            "text/html": [
              "\n",
              "  <div id=\"df-ad05df24-a5b5-4ceb-897e-450b55252ff6\">\n",
              "    <div class=\"colab-df-container\">\n",
              "      <div>\n",
              "<style scoped>\n",
              "    .dataframe tbody tr th:only-of-type {\n",
              "        vertical-align: middle;\n",
              "    }\n",
              "\n",
              "    .dataframe tbody tr th {\n",
              "        vertical-align: top;\n",
              "    }\n",
              "\n",
              "    .dataframe thead th {\n",
              "        text-align: right;\n",
              "    }\n",
              "</style>\n",
              "<table border=\"1\" class=\"dataframe\">\n",
              "  <thead>\n",
              "    <tr style=\"text-align: right;\">\n",
              "      <th></th>\n",
              "      <th>customer_type</th>\n",
              "      <th>weekday</th>\n",
              "      <th>number_of_rides</th>\n",
              "      <th>average_duration</th>\n",
              "    </tr>\n",
              "  </thead>\n",
              "  <tbody>\n",
              "    <tr>\n",
              "      <th>0</th>\n",
              "      <td>casual</td>\n",
              "      <td>Monday</td>\n",
              "      <td>274491</td>\n",
              "      <td>29.520295</td>\n",
              "    </tr>\n",
              "    <tr>\n",
              "      <th>1</th>\n",
              "      <td>casual</td>\n",
              "      <td>Tuesday</td>\n",
              "      <td>260800</td>\n",
              "      <td>26.108223</td>\n",
              "    </tr>\n",
              "    <tr>\n",
              "      <th>2</th>\n",
              "      <td>casual</td>\n",
              "      <td>Wednesday</td>\n",
              "      <td>271335</td>\n",
              "      <td>25.021425</td>\n",
              "    </tr>\n",
              "    <tr>\n",
              "      <th>3</th>\n",
              "      <td>casual</td>\n",
              "      <td>Thursday</td>\n",
              "      <td>305925</td>\n",
              "      <td>25.827153</td>\n",
              "    </tr>\n",
              "    <tr>\n",
              "      <th>4</th>\n",
              "      <td>casual</td>\n",
              "      <td>Friday</td>\n",
              "      <td>330923</td>\n",
              "      <td>28.359188</td>\n",
              "    </tr>\n",
              "    <tr>\n",
              "      <th>5</th>\n",
              "      <td>casual</td>\n",
              "      <td>Saturday</td>\n",
              "      <td>467516</td>\n",
              "      <td>33.004297</td>\n",
              "    </tr>\n",
              "    <tr>\n",
              "      <th>6</th>\n",
              "      <td>casual</td>\n",
              "      <td>Sunday</td>\n",
              "      <td>384364</td>\n",
              "      <td>34.464404</td>\n",
              "    </tr>\n",
              "    <tr>\n",
              "      <th>7</th>\n",
              "      <td>member</td>\n",
              "      <td>Monday</td>\n",
              "      <td>466762</td>\n",
              "      <td>12.437340</td>\n",
              "    </tr>\n",
              "    <tr>\n",
              "      <th>8</th>\n",
              "      <td>member</td>\n",
              "      <td>Tuesday</td>\n",
              "      <td>511606</td>\n",
              "      <td>12.290322</td>\n",
              "    </tr>\n",
              "    <tr>\n",
              "      <th>9</th>\n",
              "      <td>member</td>\n",
              "      <td>Wednesday</td>\n",
              "      <td>516597</td>\n",
              "      <td>12.269764</td>\n",
              "    </tr>\n",
              "    <tr>\n",
              "      <th>10</th>\n",
              "      <td>member</td>\n",
              "      <td>Thursday</td>\n",
              "      <td>524953</td>\n",
              "      <td>12.458223</td>\n",
              "    </tr>\n",
              "    <tr>\n",
              "      <th>11</th>\n",
              "      <td>member</td>\n",
              "      <td>Friday</td>\n",
              "      <td>460412</td>\n",
              "      <td>12.706645</td>\n",
              "    </tr>\n",
              "    <tr>\n",
              "      <th>12</th>\n",
              "      <td>member</td>\n",
              "      <td>Saturday</td>\n",
              "      <td>436528</td>\n",
              "      <td>14.352446</td>\n",
              "    </tr>\n",
              "    <tr>\n",
              "      <th>13</th>\n",
              "      <td>member</td>\n",
              "      <td>Sunday</td>\n",
              "      <td>381275</td>\n",
              "      <td>14.243380</td>\n",
              "    </tr>\n",
              "  </tbody>\n",
              "</table>\n",
              "</div>\n",
              "      <button class=\"colab-df-convert\" onclick=\"convertToInteractive('df-ad05df24-a5b5-4ceb-897e-450b55252ff6')\"\n",
              "              title=\"Convert this dataframe to an interactive table.\"\n",
              "              style=\"display:none;\">\n",
              "        \n",
              "  <svg xmlns=\"http://www.w3.org/2000/svg\" height=\"24px\"viewBox=\"0 0 24 24\"\n",
              "       width=\"24px\">\n",
              "    <path d=\"M0 0h24v24H0V0z\" fill=\"none\"/>\n",
              "    <path d=\"M18.56 5.44l.94 2.06.94-2.06 2.06-.94-2.06-.94-.94-2.06-.94 2.06-2.06.94zm-11 1L8.5 8.5l.94-2.06 2.06-.94-2.06-.94L8.5 2.5l-.94 2.06-2.06.94zm10 10l.94 2.06.94-2.06 2.06-.94-2.06-.94-.94-2.06-.94 2.06-2.06.94z\"/><path d=\"M17.41 7.96l-1.37-1.37c-.4-.4-.92-.59-1.43-.59-.52 0-1.04.2-1.43.59L10.3 9.45l-7.72 7.72c-.78.78-.78 2.05 0 2.83L4 21.41c.39.39.9.59 1.41.59.51 0 1.02-.2 1.41-.59l7.78-7.78 2.81-2.81c.8-.78.8-2.07 0-2.86zM5.41 20L4 18.59l7.72-7.72 1.47 1.35L5.41 20z\"/>\n",
              "  </svg>\n",
              "      </button>\n",
              "      \n",
              "  <style>\n",
              "    .colab-df-container {\n",
              "      display:flex;\n",
              "      flex-wrap:wrap;\n",
              "      gap: 12px;\n",
              "    }\n",
              "\n",
              "    .colab-df-convert {\n",
              "      background-color: #E8F0FE;\n",
              "      border: none;\n",
              "      border-radius: 50%;\n",
              "      cursor: pointer;\n",
              "      display: none;\n",
              "      fill: #1967D2;\n",
              "      height: 32px;\n",
              "      padding: 0 0 0 0;\n",
              "      width: 32px;\n",
              "    }\n",
              "\n",
              "    .colab-df-convert:hover {\n",
              "      background-color: #E2EBFA;\n",
              "      box-shadow: 0px 1px 2px rgba(60, 64, 67, 0.3), 0px 1px 3px 1px rgba(60, 64, 67, 0.15);\n",
              "      fill: #174EA6;\n",
              "    }\n",
              "\n",
              "    [theme=dark] .colab-df-convert {\n",
              "      background-color: #3B4455;\n",
              "      fill: #D2E3FC;\n",
              "    }\n",
              "\n",
              "    [theme=dark] .colab-df-convert:hover {\n",
              "      background-color: #434B5C;\n",
              "      box-shadow: 0px 1px 3px 1px rgba(0, 0, 0, 0.15);\n",
              "      filter: drop-shadow(0px 1px 2px rgba(0, 0, 0, 0.3));\n",
              "      fill: #FFFFFF;\n",
              "    }\n",
              "  </style>\n",
              "\n",
              "      <script>\n",
              "        const buttonEl =\n",
              "          document.querySelector('#df-ad05df24-a5b5-4ceb-897e-450b55252ff6 button.colab-df-convert');\n",
              "        buttonEl.style.display =\n",
              "          google.colab.kernel.accessAllowed ? 'block' : 'none';\n",
              "\n",
              "        async function convertToInteractive(key) {\n",
              "          const element = document.querySelector('#df-ad05df24-a5b5-4ceb-897e-450b55252ff6');\n",
              "          const dataTable =\n",
              "            await google.colab.kernel.invokeFunction('convertToInteractive',\n",
              "                                                     [key], {});\n",
              "          if (!dataTable) return;\n",
              "\n",
              "          const docLinkHtml = 'Like what you see? Visit the ' +\n",
              "            '<a target=\"_blank\" href=https://colab.research.google.com/notebooks/data_table.ipynb>data table notebook</a>'\n",
              "            + ' to learn more about interactive tables.';\n",
              "          element.innerHTML = '';\n",
              "          dataTable['output_type'] = 'display_data';\n",
              "          await google.colab.output.renderOutput(dataTable, element);\n",
              "          const docLink = document.createElement('div');\n",
              "          docLink.innerHTML = docLinkHtml;\n",
              "          element.appendChild(docLink);\n",
              "        }\n",
              "      </script>\n",
              "    </div>\n",
              "  </div>\n",
              "  "
            ]
          },
          "metadata": {},
          "execution_count": 48
        }
      ]
    },
    {
      "cell_type": "markdown",
      "source": [
        "There are many ways to plot data in Python, one being the standard plotting function (plot). In this case study, I want to use the ggplot function, which is part of the plotnine package to create beautiful and customizable visualizations"
      ],
      "metadata": {
        "id": "NHbZzq01tQTZ"
      }
    },
    {
      "cell_type": "code",
      "source": [
        "# import the plotnine package.\n",
        "import plotnine as p9\n",
        "from plotnine import ggplot, aes, geom_col, facet_wrap"
      ],
      "metadata": {
        "id": "s_LpKAARto9D"
      },
      "execution_count": null,
      "outputs": []
    },
    {
      "cell_type": "code",
      "source": [
        "# Visualize the number of rides by rider type\n",
        "ggplot(rides_by_type_and_weekday, aes(x='weekday', y='number_of_rides', fill='customer_type')) + \\\n",
        "  geom_col(position='dodge')"
      ],
      "metadata": {
        "colab": {
          "base_uri": "https://localhost:8080/",
          "height": 464
        },
        "id": "c1-eW-oyn_Nn",
        "outputId": "ec76d348-c338-46bf-d5e6-6b2002129ee2"
      },
      "execution_count": null,
      "outputs": [
        {
          "output_type": "display_data",
          "data": {
            "text/plain": [
              "<Figure size 640x480 with 1 Axes>"
            ],
            "image/png": "[encoded data removed]"
          },
          "metadata": {}
        },
        {
          "output_type": "execute_result",
          "data": {
            "text/plain": [
              "<ggplot: (8781401479400)>"
            ]
          },
          "metadata": {},
          "execution_count": 50
        }
      ]
    },
    {
      "cell_type": "markdown",
      "source": [
        "Casual riders are more likely to use the service on weekends, while annual members use the service more frequently on weekdays. This could suggest that casual riders may be more likely to use the bike share service for leisure or recreational purposes, while members may be more likely to use it for their daily commutes during the week.\n"
      ],
      "metadata": {
        "id": "3FWiRFUyJyeG"
      }
    },
    {
      "cell_type": "code",
      "source": [
        "# Visualize for average duration\n",
        "ggplot(rides_by_type_and_weekday, aes(x='weekday', y='average_duration', fill='customer_type')) + \\\n",
        "  geom_col(position='dodge')"
      ],
      "metadata": {
        "colab": {
          "base_uri": "https://localhost:8080/",
          "height": 464
        },
        "id": "39JRpRPnqUYi",
        "outputId": "a93bb405-252f-475f-d4d8-01fa9b513ffc"
      },
      "execution_count": null,
      "outputs": [
        {
          "output_type": "display_data",
          "data": {
            "text/plain": [
              "<Figure size 640x480 with 1 Axes>"
            ],
            "image/png": "[encoded data removed]"
          },
          "metadata": {}
        },
        {
          "output_type": "execute_result",
          "data": {
            "text/plain": [
              "<ggplot: (8781406498726)>"
            ]
          },
          "metadata": {},
          "execution_count": 51
        }
      ]
    },
    {
      "cell_type": "markdown",
      "source": [
        "Casual riders are more likely to use the service on weekends, while annual members use the service more frequently on weekdays. This could suggest that casual riders may be more likely to use the bike share service for leisure or recreational purposes, while members may be more likely to use it for their daily commutes during the week.\n"
      ],
      "metadata": {
        "id": "MGIKC0b3KFxV"
      }
    },
    {
      "cell_type": "markdown",
      "source": [
        "# Ride Time"
      ],
      "metadata": {
        "id": "p_fIElgGNF7q"
      }
    },
    {
      "cell_type": "code",
      "source": [
        "import matplotlib.pyplot as plt\n",
        "\n",
        "# create a new column with hour of day for each ride\n",
        "df_v2['hour_of_day'] = df_v2['started_at'].dt.hour\n",
        "\n",
        "# create a new column to label rides as either peak or off-peak\n",
        "df_v2['peak_or_offpeak'] = df_v2['hour_of_day'].apply(lambda x: 'peak' if x in range(7, 10) or x in range(16, 19) else 'off-peak')\n",
        "\n",
        "# create a pivot table with the average ride length for each hour of day and peak/off-peak label for each rider type\n",
        "pivot = df_v2.pivot_table(index=['customer_type', 'peak_or_offpeak'], values='ride_length', aggfunc='mean')\n",
        "\n",
        "# plot histogram chart\n",
        "fig, ax = plt.subplots(figsize=(8, 6))\n",
        "pivot.loc['member'].plot(kind='bar', color='blue', alpha=0.6, ax=ax, position=0, width=0.4, label='Annual Members')\n",
        "pivot.loc['casual'].plot(kind='bar', color='green', alpha=0.6, ax=ax, position=1, width=0.4, label='Casual Riders')\n",
        "\n",
        "ax.set_xlabel('Hour of Day and Peak/Off-Peak')\n",
        "ax.set_ylabel('Average Ride Length (minutes)')\n",
        "ax.set_title('Average Ride Length by Hour of Day and Peak/Off-Peak')\n",
        "ax.legend()\n",
        "ax.legend(['Annual Members', 'Casual Riders'])\n",
        "ax.set_ylim([0, 35])\n",
        "\n",
        "plt.show()\n"
      ],
      "metadata": {
        "colab": {
          "base_uri": "https://localhost:8080/",
          "height": 435
        },
        "id": "yTVB2j6JKqqa",
        "outputId": "f61bfc54-9bf0-4596-898a-86f90fba780d"
      },
      "execution_count": null,
      "outputs": [
        {
          "output_type": "display_data",
          "data": {
            "text/plain": [
              "<Figure size 576x432 with 1 Axes>"
            ],
            "image/png": "[encoded data removed]"
          },
          "metadata": {
            "needs_background": "light"
          }
        }
      ]
    },
    {
      "cell_type": "code",
      "source": [
        "# create a dataframe with the top 10 start stations for annual members and casual riders\n",
        "top_start_stations = pd.concat([df_v2[df_v2['customer_type']=='member']['start_station_name'].value_counts().head(10),\n",
        "                                df_v2[df_v2['customer_type']=='casual']['start_station_name'].value_counts().head(10)],\n",
        "                               axis=1)\n",
        "top_start_stations.columns = ['Annual Members', 'Casual Riders']\n",
        "\n",
        "# plot the bar chart\n",
        "fig, ax = plt.subplots(figsize=(12,8))\n",
        "top_start_stations.plot(kind='bar', ax=ax, alpha=0.8)\n",
        "\n",
        "# set the title and axis labels\n",
        "ax.set_title('Top 10 Start Stations by Customer Type')\n",
        "ax.set_xlabel('Station Name')\n",
        "ax.set_ylabel('Number of Rides')\n",
        "\n",
        "plt.show()"
      ],
      "metadata": {
        "colab": {
          "base_uri": "https://localhost:8080/",
          "height": 685
        },
        "id": "NkyDP1OpNbZe",
        "outputId": "70001577-81be-4176-962f-a6729d0fef6f"
      },
      "execution_count": null,
      "outputs": [
        {
          "output_type": "display_data",
          "data": {
            "text/plain": [
              "<Figure size 864x576 with 1 Axes>"
            ],
            "image/png": "[encoded data removed]"
          },
          "metadata": {
            "needs_background": "light"
          }
        }
      ]
    },
    {
      "cell_type": "markdown",
      "source": [
        "**Summary:**\n",
        "\n",
        "**Annual members and casual riders use Cyclistic bikes differently in several ways:**\n",
        "\n",
        "**- Customer Type:** Annual members account for a majority of the riders (59%), while casual riders make up the remaining 41%.\n",
        "\n",
        "**- Ride Duration:** Casual riders tend to take longer rides than annual members, with an average duration of 25-35 minutes compared to the members' average duration of around 12-15 minutes.\n",
        "\n",
        "**- Ride Frequency:** Annual members tend to use the Cyclistic bikes more frequently than casual riders, with a higher number of trips made per user on average.\n",
        "\n",
        "**- Ride Time:** Annual members are more likely to take shorter rides during peak commuting hours, while casual riders are more likely to take longer rides during off-peak hours.\n",
        "\n",
        "**- Ride Locations:** The top start and end stations for both groups differ, with annual members tending to start and end their rides at train stations and business areas, while casual riders often start and end their rides at popular tourist destinations and recreational areas.\n",
        "\n",
        "**- Day of Week:** Casual riders are more likely to use the service on weekends, while annual members use the service more frequently on weekdays."
      ],
      "metadata": {
        "id": "u-U-XFMhHXP8"
      }
    },
    {
      "cell_type": "markdown",
      "source": [
        "**Conclusion:** \n",
        "These insights can help Cyclistic develop targeted marketing strategies to encourage casual riders to become annual members by offering promotions, discounts, or loyalty programs. Additionally, targeted marketing campaigns could be developed to attract more annual members on weekends and to encourage more casual riders to use the service during the week."
      ],
      "metadata": {
        "id": "9gny5fSQLkdb"
      }
    }
  ]
}